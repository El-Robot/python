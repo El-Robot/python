{
 "cells": [
  {
   "attachments": {},
   "cell_type": "markdown",
   "metadata": {},
   "source": [
    "# Homework 5\n",
    "#### Due: End of Day May 2 (Tuesday)\n",
    "#### Tristan Lakin\n",
    "#### Colaborators: Andrew, Christopher, ChatGPT"
   ]
  },
  {
   "attachments": {},
   "cell_type": "markdown",
   "metadata": {},
   "source": [
    "## Problem 1\n",
    "Assume you are given a list of real numbers. Your goal is to determine if there is a pair of\n",
    "numbers in this list whose product is exactly 1. What is the fastest deterministic algorithm you\n",
    "can devise to solve this problem? Can you do better in terms of expected running time if you\n",
    "are allowed to use a randomized algorithm such as a hash function?"
   ]
  },
  {
   "attachments": {},
   "cell_type": "markdown",
   "metadata": {},
   "source": [
    "We want to check if a pair of numbers exists that are reciprocols. With a deterministic algorithm we can sort the list and create two tracking numbers, one at the front and one at the end. We look at the first element and take its reciprocol, if the second tracked element is the same as the reciprocol then we are done. If the second element is too small then we move the first tracker up one and repeat. If the second tracked element is bigger than the reciprocol we move our tracker down one and check again. This is $O(n \\log n)$ because the sorting is $O(n \\log n)$ and the searching is $O(n)$."
   ]
  },
  {
   "attachments": {},
   "cell_type": "markdown",
   "metadata": {},
   "source": [
    "This is pretty good, but we can actually do better is we just want expected running time. If we use a hash set $H$ then we can find the result in linear time. We can start iterating through the list of numbers and for each number in the list we want to take its reciprocal and check to see if it is in $H$, and cheching to see if something is in a hash map we expect constant running time. If it is in $H$ then we are done and we know its in there. If it is not in $H$ we add the original number into $H$. In this case we expect it to be $O(n)$ time."
   ]
  },
  {
   "attachments": {},
   "cell_type": "markdown",
   "metadata": {},
   "source": [
    "## Problem 2\n",
    "In class, you have seen an example of universal hash functions. Let p be a prime number larger\n",
    "than the largest possible key, and let $n ( n \\ll p)$ be the hash table size. We randomly pick\n",
    "an $a$ from $\\{1, 2, ..., p − 1\\}$ and a $b$ from $\\{0, 1, 2, ..., p − 1\\}$, then the family of hash functions\n",
    "$\\{h_{a,b}(x) = ((ax + b) \\mod p) \\mod n\\}$ is a universal family of hash functions.\n",
    "While teaching this class before, one student came to me after class and asked me what if we\n",
    "only randomly pick an $a \\in \\{1, 2, ..., p − 1\\}$ and drop the $b$, is the resulting class of hash functions,\n",
    "i.e., $\\{h_a(x) = ((ax) \\mod p) \\mod n\\}$ still universal? Please help me determine if this conjecture\n",
    "is correct or not.\n"
   ]
  },
  {
   "attachments": {},
   "cell_type": "markdown",
   "metadata": {},
   "source": [
    "To see what it does I want to look at a bunch of the possibilities and figure out if the change of a collision between two different inputs in a hash $h_a(x)$ is $\\le 1/n$."
   ]
  },
  {
   "cell_type": "code",
   "execution_count": 179,
   "metadata": {},
   "outputs": [
    {
     "name": "stdout",
     "output_type": "stream",
     "text": [
      "       h_(a=1)    h_(a=2)    h_(a=3)    h_(a=4)    h_(a=5)    h_(a=6)    h_(a=7)    h_(a=8)    h_(a=9)    h_(a=10)\n",
      "---  ---------  ---------  ---------  ---------  ---------  ---------  ---------  ---------  ---------  ----------\n",
      "x=0          0          0          0          0          0          0          0          0          0           0\n",
      "x=1          1          2          3          4          5          6          7          8          9           0\n",
      "x=2          2          4          6          8          0          1          3          5          7           9\n",
      "x=3          3          6          9          1          4          7          0          2          5           8\n",
      "x=4          4          8          1          5          9          2          6          0          3           7\n",
      "x=5          5          0          4          9          3          8          2          7          1           6\n",
      "x=6          6          1          7          2          8          3          9          4          0           5\n",
      "x=7          7          3          0          6          2          9          5          1          8           4\n",
      "x=8          8          5          2          0          7          4          1          9          6           3\n",
      "x=9          9          7          5          3          1          0          8          6          4           2\n",
      "[1, 2, 2, 2, 2, 2, 2, 2, 2, 2]\n",
      "1.9\n"
     ]
    }
   ],
   "source": [
    "from tabulate import tabulate\n",
    "import numpy as np\n",
    "import random\n",
    "\n",
    "def countAllHashes(p, n):\n",
    "    aList = range(1, p)\n",
    "    hList = [[((a*x)%p)%n for x in range(n)] for a in aList]\n",
    "    counts = [max([h.count(i) for i in h]) for h in hList]\n",
    "    print(tabulate(np.array(hList).transpose(), \n",
    "                   headers=[f\"h_(a={i})\" for i in aList],\n",
    "                   showindex=[f\"x={i}\" for i in range(n)]))\n",
    "    print(counts)\n",
    "    print(mean(counts))\n",
    "\n",
    "def mean(ls):\n",
    "    return sum(ls)/len(ls)\n",
    "\n",
    "countAllHashes(11, 10)"
   ]
  },
  {
   "attachments": {},
   "cell_type": "markdown",
   "metadata": {},
   "source": [
    "Above we see that on average we have 1.9 collisions, this is higher than we should have in a universal hash set. We expect a probability of $1/n$ collisions, which is an expected 1 collision per $n$ trials. Here we see we average well above 1 collision, so this is not going to be a universal hash."
   ]
  },
  {
   "attachments": {},
   "cell_type": "markdown",
   "metadata": {},
   "source": [
    "## Problem 3\n",
    "Given a set of hierarchical intervals on the real-axis subject (i.e., for any two intervals $I_1$ and $I_2$,\n",
    "either they are disjoint, or one of them is included in the other one.) The goal is to find a subset\n",
    "of disjoint intervals of maximum cardinality. Determine if the problem is NP-complete or not.\n",
    "If yes prove it. If not, design an efficient polynomial time algorithm for it.\n"
   ]
  },
  {
   "attachments": {},
   "cell_type": "markdown",
   "metadata": {},
   "source": [
    "What we can immediately notice is the graph-like structure of the problem, where a subgraph would be an interval with children of intervals smaller."
   ]
  },
  {
   "attachments": {},
   "cell_type": "markdown",
   "metadata": {},
   "source": [
    "Say we have the set of intervals, and they ar sorted by lower bound:\n",
    "```\n",
    "------------------\n",
    "       ------\n",
    "                    -------------------\n",
    "                     ------\n",
    "                             ---------\n",
    "                              --\n",
    "                                  ---\n",
    "```"
   ]
  },
  {
   "attachments": {},
   "cell_type": "markdown",
   "metadata": {},
   "source": [
    "We can make a graph by taking an interval and making it a node, where any following interval that is contained becomes a child. We take the root of this tree to be the entire number line. Here is that visually with the set above.\n",
    "```\n",
    "-∞ <------------------------------------------------------------------> ∞\n",
    "                          /                 \\\n",
    "               ------------------  -------------------                            \n",
    "                         |             /        \\\n",
    "                      ------        ------  ---------                            \n",
    "                                              /  \\\n",
    "                                             --  ---                                                                 \n",
    "```"
   ]
  },
  {
   "attachments": {},
   "cell_type": "markdown",
   "metadata": {},
   "source": [
    "The largest disjoint set is then the set of leaves for this graph, since adding any leaf will not affect another branch of the tree, and any one node has at least one leaf below it. Finding this graph can be done in the algorithm described above in $O(n \\log n)$ time and counding leaves is done in linear time."
   ]
  },
  {
   "attachments": {},
   "cell_type": "markdown",
   "metadata": {},
   "source": [
    "## Problem 4\n",
    "For a given a graph $G = (V, E)$, a vertex cover of G is a subset of vertices $C ⊆ V$ such that each\n",
    "edge of $G$ has at least one endpoint in $C$. The goal of the vertex cover problem is to find the\n",
    "optimal vertex cover $C^∗$ with the minimum number of vertices.\n",
    "Consider the following randomized algorithm for vertex cover.\n",
    "- Step 1: Start with $C = \\phi$.\n",
    "- Step 2: Pick an edge $e$ uniformly at random from the edges that are not covered by C (i.e., if $e$ has\n",
    "endpoints $u$ and $v$, then $\\{u, v\\} \\cap C = \\phi$). and add a random endpoint of $e$ to $C$.\n",
    "- Step 3: If $C$ is a vertex cover, terminate and output $C$; else go to Step 2.\n",
    "\n",
    "Answer the following questions:\n",
    "- (a) Consider the very first iteration of the algorithm. What is the probability that a vertex\n",
    "from the smallest vertex cover $C^∗$ is added to $C$? (Hint: for each edge $e ∈ E$, at least one\n",
    "endpoint of $e$ must be in $C^∗$.)\n",
    "- (b) Consider the second iteration of the algorithm. What is the probability that a vertex from\n",
    "the smallest vertex cover $C^∗$ is added to $C$? (Hint: you should discuss the two scenarios of\n",
    "whether a vertex from $C^∗$ is added to $C$ in the first iteration or not.)\n",
    "- (c) Let $k$ be the number of vertices in the smallest vertex cover $C^∗$. Show that the expectation\n",
    "of the number of vertices of $C$ is $2k$.\n"
   ]
  },
  {
   "attachments": {},
   "cell_type": "markdown",
   "metadata": {},
   "source": [
    "(a) Whenever we have a first choice, there are two things it could be. Either both option nodes are in a possible $C^*$ (100%), or only one is (50%). That means we can say that the probability of choosing a valid vertex on the first pull is $\\Pr(v_1) \\ge 0.5$.\n",
    "\n",
    "(b) For the second one, and each one after that, it is going to be the same. Since we are always picking an edge $e$ that has two sides and at least 1 of them will be in $C^*$ we expect the same $\\Pr \\ge 0.5$.\n",
    "\n",
    "(c) In the case where there is a single possible $C^*$, we expect a 50% chance of pulling the correct vertex in any situation. That means for every 1 correct value we pull we expect a  wrong result. If we finally get $k$ correct values we expect $k$ wrong values. That totals to $2k$ total values."
   ]
  },
  {
   "attachments": {},
   "cell_type": "markdown",
   "metadata": {},
   "source": [
    "## Problem 5 \n",
    "The $k$-leaf problem is as follows: Given an Graph $G(V, E)$, and an integer $k \\ge 2$, determine if the\n",
    "graph has a spanning tree with exactly $k$ leaves. Determine if the $k$-leaf spanning tree problem\n",
    "is NP-complete. If yes, prove it. If no, develop an efficient polynomial time algorithm for it."
   ]
  },
  {
   "attachments": {},
   "cell_type": "markdown",
   "metadata": {},
   "source": [
    "The Hamiltonian problem is trying to find a spanning path, which is a spanning tree with 2 leave. This means we can reduce the Hamiltonian problem to the $k=2$ case of the $k$-leaf problem. Since the Hamiltonian problem is NP-Hard, $k$-leaf is at least NP-hard. Also we can easily see that $k$-leaf is NP since we can make sure it is a valid $k$ leaf path in linear time."
   ]
  }
 ],
 "metadata": {
  "kernelspec": {
   "display_name": "Python 3",
   "language": "python",
   "name": "python3"
  },
  "language_info": {
   "codemirror_mode": {
    "name": "ipython",
    "version": 3
   },
   "file_extension": ".py",
   "mimetype": "text/x-python",
   "name": "python",
   "nbconvert_exporter": "python",
   "pygments_lexer": "ipython3",
   "version": "3.10.6"
  },
  "orig_nbformat": 4
 },
 "nbformat": 4,
 "nbformat_minor": 2
}
