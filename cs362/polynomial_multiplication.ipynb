{
 "cells": [
  {
   "cell_type": "markdown",
   "metadata": {},
   "source": [
    "# Polynomial multiplication"
   ]
  },
  {
   "attachments": {},
   "cell_type": "markdown",
   "metadata": {},
   "source": [
    "$$ P(x) = a_n x^n + a_{n+1} x^{n-1} + ... + a_1 $$\n",
    "$$ Q(x) = b_n x^n + b_{n+1} x^{n-1} + ... + b_1 $$\n",
    "\n",
    "### Zuvlidify polynomial\n",
    "$$ P(x) = a_n x^n + a_{n+1} x^{n-1} + ... + a_1 $$\n",
    "$$ P(0.7) = ? $$\n",
    "$$ P'(x) = x^n $$\n",
    "Brute force $\\leftarrow$ $n - 1$ multiplications\\\n"
   ]
  },
  {
   "cell_type": "markdown",
   "metadata": {},
   "source": []
  }
 ],
 "metadata": {
  "kernelspec": {
   "display_name": "Python 3",
   "language": "python",
   "name": "python3"
  },
  "language_info": {
   "codemirror_mode": {
    "name": "ipython",
    "version": 3
   },
   "file_extension": ".py",
   "mimetype": "text/x-python",
   "name": "python",
   "nbconvert_exporter": "python",
   "pygments_lexer": "ipython3",
   "version": "3.10.6"
  },
  "orig_nbformat": 4,
  "vscode": {
   "interpreter": {
    "hash": "a5de64471995492ddc618a58ecdfb7a4b97e4a4f9afd41641e70cf3b1dd10a09"
   }
  }
 },
 "nbformat": 4,
 "nbformat_minor": 2
}
