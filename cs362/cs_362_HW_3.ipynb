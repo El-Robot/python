{
 "cells": [
  {
   "attachments": {},
   "cell_type": "markdown",
   "metadata": {},
   "source": [
    "# Homework 3\n",
    "### Tristan Larkin\n",
    "### Collaborators: Erin, Althea, Andrew, ChatGPT\n",
    "### Due: End of Day Sunday April 9th, 2023"
   ]
  },
  {
   "attachments": {},
   "cell_type": "markdown",
   "metadata": {},
   "source": [
    "## Problem 1\n",
    "In the lectures, we discussed three shortest path algorithms (i.e, Bellman-Ford, Floyd-Warshall,\n",
    "and Dijkstra’s) based on structural inductions. Answer the following questions regarding these\n",
    "three shortest paths algorithms.\n",
    "- Describe the main induction hypothesis for these three shortest path algorithms.\n",
    "- Consider the graph as shown below, where all the edges have positive edge weights. What\n",
    "are the shortest paths from vertex 0 to vertex 7 found by these three algorithms?\n",
    "- Suppose that the graph as depicted is a toll road network where the edge weights are fees.\n",
    "With inflation everywhere, the government is considering uniformly increasing these fees.\n",
    "Under this proposal, each edge weight will be increased uniformly by adding a fee $\\epsilon$ $(\\epsilon > 0)$. Will any of these three shortest path algorithms be robust under this uniform fee increase\n",
    "proposal? In other words, the shortest path found remains valid before and after the fee\n",
    "increase. Explain why?\n"
   ]
  },
  {
   "attachments": {
    "image.png": {
     "image/png": "[encoded data removed]"
    }
   },
   "cell_type": "markdown",
   "metadata": {},
   "source": [
    "![image.png](attachment:image.png)"
   ]
  },
  {
   "attachments": {},
   "cell_type": "markdown",
   "metadata": {},
   "source": [
    "#### Bellman-Ford\n",
    "We know all the shortest paths from $V_0$ to any vertex in the graph using $\\le k - 1$ edges. If so, then we can get to the shortest path using $\\le k$ edges because we either know that the path has $\\le k - 1$ edges (which we already know by induction hypothesis) or it uses every available edge, and since a shorest path is two smaller shortest paths combined, we know that the path will be given by some path with $\\le k - 1$ edges (which again we know) plus the $k^{\\text{th}}$ edge. \n",
    "\n",
    "It will take the bottom path because the bellman-ford algortihm will always take the shortest path to the solution as it works its way out from the origin node. In this case that path is $ 0 \\rightarrow 6 \\rightarrow 7 $\n",
    "\n",
    "Since it does take the least edges path always it will be the shortest path in the new case where we add a cosntant value to each edge. "
   ]
  },
  {
   "attachments": {},
   "cell_type": "markdown",
   "metadata": {},
   "source": [
    "#### Floyd-Warshall\n",
    "We take it that we know all the paths between every pair of verticies $k-1$ stored in a matrix. If we add one more vertex then the shortest path path to the new vertex to each other will be either the direct path created or a path connnected to another shortest path. \\\n",
    "Path: $ 0 \\rightarrow 1 \\rightarrow 2 \\rightarrow 3 \\rightarrow 7 $\n",
    "\n",
    "This will result in the top path because the algorithm adds the verticies in order of index, and the top has the lowest indicies.\n",
    "\n",
    "Since the path is chosen based in the index order it will not be robust to the change presented, and that is seen as an example in this graph."
   ]
  },
  {
   "attachments": {},
   "cell_type": "markdown",
   "metadata": {},
   "source": [
    "#### Dijkstras\n",
    "Assuming we know the $k$ closest verticies to source $s$ we can find the $k+1$ closest vertex since it will be either a direct path or through a previously found shortest path. Path: $ 0 \\rightarrow 6 \\rightarrow 7 $\n",
    "\n",
    "In this case it will be the bottom path because it will get to all three of the final path edges where top is 9, middle is 8, and bottom is 6, so it will choose to take the bottom path.\n",
    "\n",
    "Even though it is the same path in the case given, it will not always be the correct path in this situation. For example if we started at 7 and went to 0 it would take the top path."
   ]
  },
  {
   "attachments": {},
   "cell_type": "markdown",
   "metadata": {},
   "source": [
    "## Problem 2\n",
    "In class we discussed the union-find data structure for implementing make-set, find, and union\n",
    "operations for n given elements using a tree. It was mentioned that we can guarantee $O (\\log n)$\n",
    "time performance for all three operations using union-by-rank. Prove that this claim is true.\n"
   ]
  },
  {
   "attachments": {},
   "cell_type": "markdown",
   "metadata": {},
   "source": [
    "What we need for $O(\\log n)$ performance on these operations is for **find()** to be $O(\\log n)$ since it is used to get the top level element. This means **make-set()** needs to build the disjoint sets in a way that never makes a tree with a height more than $\\log n$. "
   ]
  },
  {
   "attachments": {},
   "cell_type": "markdown",
   "metadata": {},
   "source": [
    "Our base case we need to think about is how many of the trees can reach rank (height) 0. That would be \n",
    "$$ V_0 \\le n = \\frac{n}{2^0} $$\n",
    "For now lets assume that the number of nodes that reach rank $k$ is given by \n",
    "$$ V_k \\le \\frac{n}{2^k} $$\n",
    "Now we need to show that $ V_{k+1} \\le \\dfrac{n}{2^{k+1}} $. For a node to reach rank $k+1$ it would have to reach it by combining two trees of rank $k$. Any less then the new rank would just be the larger of the two sets being joined together. \n",
    "$$ V_{k} \\le \\dfrac{n}{2^{k}} $$\n",
    "$$ V_{k+1} \\le \\dfrac{n}{2^{k+1}} = \\frac{1}{2} \\dfrac{n}{2^{k}} $$\n",
    "$$ \\Rightarrow V_{k+1} \\le \\dfrac{V_{k}}{2} $$\n",
    "\n"
   ]
  },
  {
   "attachments": {},
   "cell_type": "markdown",
   "metadata": {},
   "source": [
    "This shows that the number of nodes that can reach rank $k+1$ is at most half the number of nodes that can reach rank $k$. This is also supported by the fact that we are using $2V_k$ nodes to make a single $V_{k+1}.\n",
    "\n",
    "Single any tree will have at most the highest ranks height, then we can look at how tall our trees will be. Assuming maximum height given $n$ nodes we know that the tallest tree will be \n",
    "$$ 1=\\frac{n}{2^k} $$\n",
    "$$ 2^k = n $$\n",
    "$$ k = \\log_2{n}$$\n",
    "Which is what we need it to be, so all our functions will work in $O(\\log n)$ time."
   ]
  },
  {
   "attachments": {},
   "cell_type": "markdown",
   "metadata": {},
   "source": [
    "## Problem 3\n",
    "Suppose you are given an undirected simple graph $G(V, E)$. Design an efficient algorithm to\n",
    "determine if the given graph is a tree or not. Note that you should also discuss how you want\n",
    "the input graph to be represented, e.g., an adjacency list or an adjacency matrix.\n"
   ]
  },
  {
   "attachments": {},
   "cell_type": "markdown",
   "metadata": {},
   "source": [
    "Firstly we know that a tree is just an undirected simple graph that is acyclic / minimally connected. (i.e. $E = V - 1$). Therfore we can first check if the number of edges is greater than $V-1$ and if it is we can immediately return False.\n",
    "\n",
    "The only other condition we need to satisfy is that the graph is connected. We can do that just by running BFS at any node. If that BFS does not find every other node in the graph then it is not a tree.\n",
    "\n",
    "```js\n",
    "function is_tree(G: graph in adjacency list format){\n",
    "    if G.E = G.V - 1 is not true then return false\n",
    "\n",
    "    Run BFS on an element in G\n",
    "    if BFS does not find all verticies return false\n",
    "\n",
    "    otherwise return true\n",
    "}\n",
    "```\n",
    "\n",
    "Assuming the most basic input, we need to spend $O(V)$ time making sure $E$ is less than $V-1$. Then BFS takes $O(E + V)$ time, but we already ensured that $ E = V - 1 $ that makes this $O(2V) = O(V)$. The entire algorithm is linear with respect to the number of verticies."
   ]
  },
  {
   "cell_type": "markdown",
   "metadata": {},
   "source": [
    "## Problem 4\n",
    "A Hamiltonian path is a simple path that includes all the vertices of the graph. Design an\n",
    "efficient algorithm to determine if a given DAG exhibits a Hamiltonian path.\n"
   ]
  },
  {
   "attachments": {},
   "cell_type": "markdown",
   "metadata": {},
   "source": [
    "The naive approach is to just start at a node and look to see if you can move to the child node marking what you have seen. Since there are noo cycles in a DAG we know that you can just look at the next, and as soon as you hit a node with two options it fails, since you will never be able to come back. Then repeat for each node.\n",
    "\n",
    "Since we are working with a DAG we can topilogically sort the graph in linear time. After we do that we can easily check if the original graph exibits a Hamiltonian path by checking if any items in the topological sort are on the same level. Any items on the same level of a topilogically sorted graph cannot all be in the same simple path, since you can only move down, not to the side. Since we technically just care about the levels of the topological sort and not the actual order, I will just use the DFS part of topological sort.\n",
    "\n",
    "```js\n",
    "function has_Hamiltonian(G: DAG){\n",
    "    call DFS(G) to compute the finishing times v.finish for each vertex // O(V + E)\n",
    "    if any two values of v.finish are the same return false // O(V)\n",
    "    else return true\n",
    "}\n",
    "```\n",
    "\n",
    "The DFS takes $O(V+E)$ and so the algortihm runs in that time."
   ]
  },
  {
   "attachments": {},
   "cell_type": "markdown",
   "metadata": {},
   "source": [
    "## Problem 5\n",
    "Let $G(V, E)$ be an undirected weighted graph, and let $T$ be the MST of $G$. Suppose that we\n",
    "increase the weights of all the edges in $G$ by a constant $c$. Is $T$ still the MST of $G$? Explain\n",
    "why?\n"
   ]
  },
  {
   "attachments": {},
   "cell_type": "markdown",
   "metadata": {},
   "source": [
    "If we have a set of sorted numbers $ L = \\{n_1, n_2, n_3, ..., n_N\\} $ we can add a constant $c$ to each value and the order will not change. This means the same is true for the list of edge weights. Since $a < b \\Rightarrow (a + c) < (b + c)$ we know that the $V-1$ shortest edges will still be the shortest edges. The MST will be the same edges but depending on the implementation, the edges in the MSP might not be updated to have each edge with $+c$ weights."
   ]
  },
  {
   "attachments": {},
   "cell_type": "markdown",
   "metadata": {},
   "source": [
    "## Problem 6\n",
    "Let $G(V, E)$ be an undirected weighted graph, and let $T$ be an MST of $G$. Suppose that we add\n",
    "a new vertex $v$ to $G$, together with some weighted edges from $v$ to some vertices of $G$. Design a\n",
    "linear-time algorithm to find the new MST of $G$ after adding $v$.\n"
   ]
  },
  {
   "attachments": {},
   "cell_type": "markdown",
   "metadata": {},
   "source": [
    "The naive algortimth is to just recompute the MST from scratch and that would take $O(E \\log V)$ time. We can try to take advantage of our already built $T$ to make $T'$."
   ]
  },
  {
   "attachments": {},
   "cell_type": "markdown",
   "metadata": {},
   "source": [
    "The next step is to acknowledge that we will never have to use the originally ignored edges. So we can just use $T$ with the new vertex and edges as out new $G$ and then we can build a MSP in $O(V \\log V)$ (where V is the toal edges) since we can ignore the originally unused edges in $G$. "
   ]
  },
  {
   "attachments": {},
   "cell_type": "markdown",
   "metadata": {},
   "source": [
    "Another option is to add the new edges one at a time, from smallest to largest. After the second edge added we know there will be a cycle, and we run DFS to find the cycle and remove the heaviest edge. We can repeat this for every edge added. This would be $O(Vk)$ where $k$ is the number of new edges."
   ]
  },
  {
   "attachments": {},
   "cell_type": "markdown",
   "metadata": {},
   "source": [
    "None of these are linear time always but the $O(V \\log v)$ one is linear with respect to $E$ if $E$ is large (on the scale of $V^2$) and the $O(Vk)$ algorithm is close to linear if we take $k$ to be very small."
   ]
  },
  {
   "attachments": {},
   "cell_type": "markdown",
   "metadata": {},
   "source": [
    "## Problem 7\n",
    "Design an algorithm for updating an MST after deleting a node or an edge.\n"
   ]
  },
  {
   "attachments": {},
   "cell_type": "markdown",
   "metadata": {},
   "source": [
    "If we delete a node in an MST then we know that the MST will now we disconnected and will need to use at least one edge from the graph it came from to replace it. To find the disconected graphs we can run BFS on the tree and repeat until we find all the nodes in the two separate trees. The edges that were seen are then going to be marked as used. For clarification this is run on the two sections of the MST, not the whole graph. Then we can find all the edges that connect the two disconnected trees together and take the smallest one. The DFS calls takes $O(V + E)$ in the worst case. Then we need to look at the remaining edges (i.e. the ones that are not in the MST). This could be acomplished by putting each of the elements of each tree into a disjoint set in a *union-find* data structure, which itself can be done in linear time, $O(V)$, if we specifically add averything in one tree to the same node and avoid and long trees inside the union-find. Then we just need to look at the remaining edges in the graph and use the **find()** function which is $O(\\log n)$ once for each edge. The smallest edge in that list is kept. That is $O(N \\log n)$. With total time $O(E + V \\log V)$."
   ]
  },
  {
   "attachments": {},
   "cell_type": "markdown",
   "metadata": {},
   "source": [
    "## Problem 8\n",
    "Suppose you are working for CISCO to design network routing protocols. Suppose you are given\n",
    "a graph where the edges represent connections between routers in the Internet, where the weight\n",
    "of an edge represents the bandwidth of a connection between two routers. The goal here is to\n",
    "find a path between two Internet nodes that has the maximum possible bandwidth. Discuss how\n",
    "you would go about solving the problem."
   ]
  },
  {
   "attachments": {},
   "cell_type": "markdown",
   "metadata": {},
   "source": [
    "What we want is the Maximum Spanning Tree. This would get rid of all the bottlenecks that are going to decrease the overall bandwidth. The easiest way to do this is a slight modification to Krushall's algorithm. Instead of using a min heap to keep track of the values we want to use a max heap, and add the largest weight to the union-find. That will leave behind all the uneccisary edges of smallest value, hence get rid of all the edges that would decread the bandwidth of any path. This is the same running time as Kruskall's, $O((V+E) \\log V)$."
   ]
  }
 ],
 "metadata": {
  "language_info": {
   "name": "python"
  },
  "orig_nbformat": 4
 },
 "nbformat": 4,
 "nbformat_minor": 2
}
