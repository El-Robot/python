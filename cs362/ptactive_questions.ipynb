{
 "cells": [
  {
   "cell_type": "code",
   "execution_count": 30,
   "metadata": {},
   "outputs": [
    {
     "name": "stdout",
     "output_type": "stream",
     "text": [
      "[0.05, 0.008, 0.04047619047619047, 0.00988235294117647, 0.04002932551319648, 0.009992673992673992, 0.040001831166453033]\n",
      "[1, -0.4941176470588236, 1.235294117647059, -0.6171945701357467, 1.2490842490842493, -0.6245135348362633, 1.2499427786678876]\n",
      "53.846162650163684\n",
      "239.31847879216303\n",
      "AAAH\n",
      "185.47\n"
     ]
    },
    {
     "data": {
      "text/plain": [
       "0.006182410538066645"
      ]
     },
     "execution_count": 30,
     "metadata": {},
     "output_type": "execute_result"
    }
   ],
   "source": [
    "import numpy as np\n",
    "\n",
    "d = 5\n",
    "R = 2\n",
    "\n",
    "xps = [0]\n",
    "xs = [d]\n",
    "\n",
    "def xp(i) -> float:\n",
    "    return (R**2)/x(i-1)\n",
    "    # if len(xps)+1 < i:\n",
    "    #     xps.append((R**2)/x(i-1))\n",
    "    # return xps[i]\n",
    "\n",
    "def x(i) -> float:\n",
    "    if i == 0 :\n",
    "        return d\n",
    "    return d-(R**2)/(d-xp(i))\n",
    "    # if len(xs)+1 < i:\n",
    "    #     xs.append((R**2)/(d-xp(i)))\n",
    "    # return xs[i-1]\n",
    "\n",
    "# xs = [x(i) for i in range(0,3)]\n",
    "# xps = [xp(i) for i in range(3)]\n",
    "\n",
    "\n",
    "    \n",
    "\n",
    "pos = [x(0)/100,xp(1)/100,x(1)/100,xp(2)/100,x(2)/100,xp(3)/100,x(3)/100]\n",
    "\n",
    "def qp(i):\n",
    "    return -0.02/pos[i*2] * q(i-1)\n",
    "\n",
    "def q(i):\n",
    "    if i == 0:\n",
    "        return 1\n",
    "    return -0.02/(pos[i*2-1]) * qp(i)\n",
    "\n",
    "chgs = [q(0),qp(1),q(1),qp(2),q(2),qp(3),q(3)]\n",
    "\n",
    "k = 9e9\n",
    "\n",
    "def v(x, i):\n",
    "    return chgs[i]/np.abs(x-pos[i])\n",
    "\n",
    "print(pos)\n",
    "print(chgs)\n",
    "v2 = sum([v(0.02, i) for i in range(5)])\n",
    "v3 = sum([v(0.03, i) for i in range(5)])\n",
    "print(v2)\n",
    "print(v3)\n",
    "print(\"AAAH\")\n",
    "print(f\"{v3-v2:.5}\")\n",
    "v0c = v3 - v2\n",
    "v0c/30000\n"
   ]
  }
 ],
 "metadata": {
  "language_info": {
   "name": "python"
  },
  "orig_nbformat": 4
 },
 "nbformat": 4,
 "nbformat_minor": 2
}
