{
 "cells": [
  {
   "attachments": {},
   "cell_type": "markdown",
   "metadata": {},
   "source": [
    "# Homework 5 \n",
    "### Tristan Larkin\n",
    "### (Due Date: Monday, Mar. 06) "
   ]
  },
  {
   "attachments": {},
   "cell_type": "markdown",
   "metadata": {},
   "source": [
    "## Problem 1\n",
    "The initial activity $𝑁_0$ and lifetime 𝜏 of a radioactive source are known with an uncertainty of 1% each, \n",
    "$\\frac{\\sigma_{N_0}}{N_0}=\\frac{\\sigma_{\\tau}}{\\tau}=1\\%$. The activity at any later time $t$ is:  \n",
    "$$ N(𝑡)=N_0e^{−t/ \\tau} $$  \n",
    "(a) Find the error in terms of $t$, activity $N_0$ and $\\tau$.  \\\n",
    "(b) For what value of ($t/\\tau$) do the errors in $N_0$ and $\\tau$ contribute equally to the uncertainty in $𝑁(𝑡)$? "
   ]
  },
  {
   "attachments": {},
   "cell_type": "markdown",
   "metadata": {},
   "source": [
    "(a) We know that the error in $N$ will be given by the equation:\n",
    "$$ \\sigma_N (t) = \\sqrt{(\\frac{\\partial N}{\\partial N_0} \\sigma_{N_0})^2+\n",
    "                        (\\frac{\\partial N}{\\partial \\tau} \\sigma_{\\tau})^2+\n",
    "                        (\\frac{\\partial N}{\\partial t} \\sigma_{t})^2}$$\n",
    "$$ \\sigma_N (t) = \\sqrt{(\\sigma_{N_0}e^{-t/\\tau})^2+\n",
    "                        (\\frac{t \\sigma_{\\tau} N_0}{\\tau^2} e^{-t/\\tau})^2+\n",
    "                        (\\frac{-\\sigma_{t} N_0}{\\tau} e^{-t/\\tau})^2}$$\n",
    "\n",
    "If we take $t$ to be an exact value we are left with:\n",
    "$$ \\sigma_N (t) = \\sqrt{(\\sigma_{N_0}e^{-t/\\tau})^2+\n",
    "                        (\\frac{t \\sigma_{\\tau} N_0}{\\tau^2} e^{-t/\\tau})^2}$$"
   ]
  },
  {
   "attachments": {},
   "cell_type": "markdown",
   "metadata": {},
   "source": [
    "(b) we want to satisfy the equation:\n",
    "$$ (\\sigma_{N_0}e^{-t/\\tau})^2 = (\\frac{t \\sigma_{\\tau} N_0}{\\tau^2} e^{-t/\\tau})^2$$\n",
    "$$ \\sigma_{N_0} = \\frac{t \\sigma_{\\tau} N_0}{\\tau^2}$$\n",
    "$$ \\frac{\\sigma_{N_0}}{N_0} \\frac{\\tau}{\\sigma_{\\tau}} = \\frac{t}{\\tau}$$\n",
    "By the percent uncertainty\n",
    "$$ \\frac{0.01}{0.01} = \\frac{t}{\\tau}$$\n",
    "$$ 1 = \\frac{t}{\\tau}$$"
   ]
  },
  {
   "attachments": {},
   "cell_type": "markdown",
   "metadata": {},
   "source": [
    "## Problem 2.- (Bevington 4.8)\n",
    "The Particle Data Tables list the following eight experimental measurements of the mean lifetime of the $K$ meson with their uncertainties, in units of $10^{-10}$ s. Find the weighted mean of the data and the uncertainty in the mean."
   ]
  },
  {
   "attachments": {},
   "cell_type": "markdown",
   "metadata": {},
   "source": [
    "We can use the equations:\n",
    "$$ w_i = \\frac{1}{\\sigma_i^2} $$\n",
    "$$ x_{\\text{avg}} = \\frac{\\sum w_i x_i}{\\sum w_i} $$\n",
    "$$ \\sigma_{\\text{avg}} = \\sum\\sqrt{\\frac{1}{w_i}} $$"
   ]
  },
  {
   "cell_type": "code",
   "execution_count": 18,
   "metadata": {},
   "outputs": [
    {
     "name": "stdout",
     "output_type": "stream",
     "text": [
      "0.8971 ± 0.0021\n",
      "0.8941 ± 0.0014\n",
      "0.8929 ± 0.0016\n",
      "0.892 ± 0.0044\n",
      "0.881 ± 0.009\n",
      "0.8924 ± 0.0032\n",
      "0.8937 ± 0.0048\n",
      "0.8958 ± 0.0045\n",
      "\n",
      "The weighted mean is 0.894 ± 0.00085 10^(-10) s.\n"
     ]
    }
   ],
   "source": [
    "import numpy as np\n",
    "\n",
    "values = [0.8971,0.8941,0.8929,0.8920,0.881,0.8924,0.8937,0.8958]\n",
    "uncertainties = [0.0021,0.0014,0.0016,0.0044,0.009,0.0032,0.0048,0.0045]\n",
    "\n",
    "def weighted_mean(xs:list[float], sigmaxs:list[float]) -> float:\n",
    "    weights = [1/(sigma**2) for sigma in sigmaxs]\n",
    "    num = sum([w*x for w,x in zip(weights, xs)])\n",
    "    den = sum(weights)\n",
    "    return num/den\n",
    "\n",
    "def weighted_uncertainty(sigmaxs:list[float]) -> float:\n",
    "    weights = [1/(sigma**2) for sigma in sigmaxs]\n",
    "    den = sum(weights)\n",
    "    return np.sqrt(1/den)\n",
    "\n",
    "for x, sig in zip(values, uncertainties):\n",
    "    print(f\"{x} ± {sig}\")\n",
    "\n",
    "wavg = weighted_mean(values, uncertainties)\n",
    "avgunc = weighted_uncertainty(uncertainties)\n",
    "print()\n",
    "print(f\"The weighted mean is {wavg:.3} ± {avgunc:.2} 10^(-10) s.\")"
   ]
  },
  {
   "attachments": {},
   "cell_type": "markdown",
   "metadata": {},
   "source": [
    "## Problem 3.- (Bevington 4.9) \n",
    "Eleven students in an undergraduate laboratory combined their measurements of the mean lifetime of an excited state. Their individual measurements are tabulated. Estimates of Mean and Errors are tabulated:"
   ]
  },
  {
   "attachments": {
    "image.png": {
     "image/png": "[encoded data removed]"
    }
   },
   "cell_type": "markdown",
   "metadata": {},
   "source": [
    "![image.png](attachment:image.png)"
   ]
  },
  {
   "attachments": {},
   "cell_type": "markdown",
   "metadata": {},
   "source": [
    "Find the maximum likelihood estimate of the mean and its uncertainty. "
   ]
  },
  {
   "cell_type": "code",
   "execution_count": 9,
   "metadata": {},
   "outputs": [],
   "source": [
    "taus = [34.3, 32.2, 35.4, 33.5, 34.7, 33.5, 27.9, 32.0, 32.4, 31.0, 19.8]\n",
    "sigma_taus = [1.6, 1.2, 1.5, 1.4, 1.6, 1.5, 1.9, 1.2, 1.4, 1.8, 1.3]"
   ]
  },
  {
   "attachments": {},
   "cell_type": "markdown",
   "metadata": {},
   "source": [
    "I will use the same functions as in Problem 2."
   ]
  },
  {
   "cell_type": "code",
   "execution_count": 16,
   "metadata": {},
   "outputs": [
    {
     "name": "stdout",
     "output_type": "stream",
     "text": [
      "The average value of tau is 31.3 ± 0.44 s.\n"
     ]
    }
   ],
   "source": [
    "avg = weighted_mean(taus, sigma_taus)\n",
    "avg_unc = weighted_uncertainty(sigma_taus)\n",
    "\n",
    "print(f\"The average value of tau is {avg:.3} ± {avg_unc:.2} s.\")"
   ]
  },
  {
   "attachments": {},
   "cell_type": "markdown",
   "metadata": {},
   "source": [
    "## Problem 4\n",
    "In an experiment to determine the energy of a gamma ray source, an experimenter makes $N_1$=44 measurements with the apparatus and finds a result $\\bar{E}_1$ = 1.022 MeV with a spread $s_1$= 0.010 MeV in the observations. After looking over the data the experimenter realizes that he could improve the equipment to decrease the uncertainty by a factor of 2.5 ($s_2$ = 0.004 MeV) so he makes $N_2$=12 more measurements that yield a result $\\bar{E}_2$ = 1.018 MeV. \n",
    "\n",
    "(a) What is the uncertainty in the mean $\\bar{E}_1$ in the first set? \\\n",
    "(b) What is the uncertainty in the mean $\\bar{E}_2$ in the second set? \n",
    "\n",
    "(Hint: we can approximate the uncertainty in each of the “$N_i$” measurements as the uncertainty given by the spread of the particular set.)\n",
    "\n",
    "(c) If he wishes to combine the measurements, calculate the mean and the uncertainty in the mean of the combined measurements? "
   ]
  },
  {
   "attachments": {},
   "cell_type": "markdown",
   "metadata": {},
   "source": [
    "If we take the spead to be the uncertainty of each value, we can combine the uncertainties to get the uncertainty of the averages $\\bar{E}_1$ and $\\bar{E}_2$. I will use the same funciton defined above."
   ]
  },
  {
   "cell_type": "code",
   "execution_count": 32,
   "metadata": {},
   "outputs": [
    {
     "name": "stdout",
     "output_type": "stream",
     "text": [
      "(a) The uncertainty for E1 is 0.0015\n",
      "(b) The uncertainty for E2 is 0.0012\n"
     ]
    }
   ],
   "source": [
    "N1 = 44 # measurments\n",
    "N2 = 12 # measurments\n",
    "\n",
    "e1 = 1.022 # MeV\n",
    "e2 = 1.018 # MeV\n",
    "\n",
    "s1 = 0.010 # MeV\n",
    "s2 = 0.004 # MeV\n",
    "\n",
    "uncertainties1 = [s1] * N1\n",
    "uncertainties2 = [s2] * N2\n",
    "\n",
    "sigma1 = weighted_uncertainty(uncertainties1)\n",
    "sigma2 = weighted_uncertainty(uncertainties2)\n",
    "\n",
    "print(f\"(a) The uncertainty for E1 is {sigma1:.2}\")\n",
    "print(f\"(b) The uncertainty for E2 is {sigma2:.2}\")"
   ]
  },
  {
   "attachments": {},
   "cell_type": "markdown",
   "metadata": {},
   "source": [
    "Now we can use the functions again to combine these values."
   ]
  },
  {
   "cell_type": "code",
   "execution_count": 33,
   "metadata": {},
   "outputs": [
    {
     "name": "stdout",
     "output_type": "stream",
     "text": [
      "(c) The average E is going to be 1.019 ± 0.00092\n"
     ]
    }
   ],
   "source": [
    "e_avg = weighted_mean([e1,e2], [sigma1,sigma2])\n",
    "sigma_avg = weighted_uncertainty([sigma1,sigma2])\n",
    "\n",
    "print(f\"(c) The average E is going to be {e_avg:.4} ± {sigma_avg:.2}\")"
   ]
  }
 ],
 "metadata": {
  "kernelspec": {
   "display_name": "Python 3",
   "language": "python",
   "name": "python3"
  },
  "language_info": {
   "codemirror_mode": {
    "name": "ipython",
    "version": 3
   },
   "file_extension": ".py",
   "mimetype": "text/x-python",
   "name": "python",
   "nbconvert_exporter": "python",
   "pygments_lexer": "ipython3",
   "version": "3.10.6"
  },
  "orig_nbformat": 4
 },
 "nbformat": 4,
 "nbformat_minor": 2
}
