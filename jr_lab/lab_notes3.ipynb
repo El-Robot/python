{
 "cells": [
  {
   "attachments": {},
   "cell_type": "markdown",
   "metadata": {},
   "source": [
    "# Lab 3 - Speed of Light"
   ]
  },
  {
   "attachments": {},
   "cell_type": "markdown",
   "metadata": {},
   "source": [
    "Changing the distance and checking the difference in time."
   ]
  },
  {
   "cell_type": "code",
   "execution_count": 1,
   "metadata": {},
   "outputs": [],
   "source": [
    "import numpy as np\n",
    "\n",
    "# DATA\n",
    "\n",
    "fwhm1 = 2.04 # ns\n",
    "fwhm2 = 1.68 # ns\n",
    "\n",
    "d = np.linspace(1.2, 0.2, 11) # m\n",
    "del_t1 = np.array([11.60, 11.04, 10.32, 9.68, 9.04, 8.32, 7.56, 6.92, 6.4, 5.72, 5.04]) # ns\n",
    "del_t2 = np.array([11.72, 11.0, 10.24, 9.68, 8.92, 8.28, 7.64, 6.92, 6.28, 5.68, 5.08]) # ns\n",
    "del_t3 = np.array([11.6, 10.96, 10.2, 9.68, 9.12, 8.36, 7.56, 6.96, 6.28, 5.68, 5.08]) # ns\n",
    "del_t4 = np.array([11.6, 10.88, 10.24, 9.60, 9.04, 8.2, 7.56, 7.00, 6.32, 5.68, 5.0]) # ns\n",
    "dels = np.array([np.average([x1,x2,x3,x4]) for x1,x2,x3,x4 in zip(del_t1, del_t2, del_t3, del_t4)]) # ns\n",
    "\n",
    "t_w_25 = [5.72, 5.56, 5.68, 5.68] # ns\n",
    "t_wo_25 = [5.44, 5.36, 5.40, 5.44] # ns\n",
    "t_w_50 = [7.32, 7.32, 7.24, 7.28] # ns\n",
    "t_wo_50 = [7.04, 7.08, 7.04, 7.08] # ns\n",
    "\n",
    "power_range = [1.66, 1.847] # mW\n",
    "\n",
    "time_spacing = 113.2 # micro sec\n",
    "sigma_time_spaceing = 2 # micro sec\n",
    "\n",
    "C = 2.99e8"
   ]
  },
  {
   "cell_type": "code",
   "execution_count": 2,
   "metadata": {},
   "outputs": [
    {
     "name": "stdout",
     "output_type": "stream",
     "text": [
      "FWHM = 1.8599999999999999 ± 0.18000000000000005\n",
      "Power = 1.7534999999999998 ± 0.09350000000000003\n"
     ]
    }
   ],
   "source": [
    "fwhm = np.average([fwhm1, fwhm2])\n",
    "fwhm_unc = np.std([fwhm1, fwhm2])\n",
    "print(f\"FWHM = {fwhm} ± {fwhm_unc}\")\n",
    "\n",
    "power = np.average(power_range)\n",
    "power_unc = np.std(power_range)\n",
    "print(f\"Power = {power} ± {power_unc}\")"
   ]
  },
  {
   "cell_type": "code",
   "execution_count": 3,
   "metadata": {},
   "outputs": [
    {
     "name": "stdout",
     "output_type": "stream",
     "text": [
      "-----  -----  -----  ----  ----  ----  ----  ----  ----  ----  ----\n",
      "11.63  10.97  10.25  9.66  9.03  8.29  7.58  6.95  6.32  5.69  5.05\n",
      "-----  -----  -----  ----  ----  ----  ----  ----  ----  ----  ----\n"
     ]
    }
   ],
   "source": [
    "from tabulate import tabulate\n",
    "\n",
    "print(tabulate([dels]))"
   ]
  },
  {
   "cell_type": "code",
   "execution_count": 4,
   "metadata": {},
   "outputs": [
    {
     "name": "stdout",
     "output_type": "stream",
     "text": [
      "----  ----  ----  ---  ----  ----  ----  ----  ----  ----\n",
      "0.66  1.38  1.97  2.6  3.34  4.05  4.68  5.31  5.94  6.58\n",
      "----  ----  ----  ---  ----  ----  ----  ----  ----  ----\n"
     ]
    }
   ],
   "source": [
    "def sub(x, y):\n",
    "    return y - x\n",
    "\n",
    "diff_ts = [dels[0] - dels[i+1] for i in range(0, len(dels)-1)]\n",
    "print(tabulate([diff_ts]))\n",
    "\n"
   ]
  },
  {
   "cell_type": "code",
   "execution_count": 11,
   "metadata": {},
   "outputs": [
    {
     "name": "stdout",
     "output_type": "stream",
     "text": [
      "----------  -----------  -----------  -----------  -----------  -----------  -----------  -----------  ----------  -----------\n",
      "3.0303e+08  2.89855e+08  3.04569e+08  3.07692e+08  2.99401e+08  2.96296e+08  2.99145e+08  3.01318e+08  3.0303e+08  3.03951e+08\n",
      "----------  -----------  -----------  -----------  -----------  -----------  -----------  -----------  ----------  -----------\n",
      "Our calculated C is: 3.0083e+08 m/s\n",
      "Compared to the accepted value that is a 0.612% error.\n",
      "6.649988095238098e-10\n",
      "1.0685326538355935e-11\n",
      "The uncertainty in C is 1.788e+06 m/s\n",
      "\\begin{tabular}{lrrrrrrrrrrr}\n",
      "\\hline\n",
      " Distances (m)           &  1.2      &  1.1     &  1.0      & 0.9      & 0.8      & 0.7      & 0.6      & 0.5      & 0.4      & 0.3      & 0.2  \\\\\n",
      " Trial 1 (ns)            & 11.6      & 11.0     & 10.3      & 9.68     & 9.04     & 8.32     & 7.56     & 6.92     & 6.4      & 5.72     & 5.04 \\\\\n",
      " Trial 2 (ns)            & 11.7      & 11.0     & 10.2      & 9.68     & 8.92     & 8.28     & 7.64     & 6.92     & 6.28     & 5.68     & 5.08 \\\\\n",
      " Trial 3 (ns)            & 11.6      & 11.0     & 10.2      & 9.68     & 9.12     & 8.36     & 7.56     & 6.96     & 6.28     & 5.68     & 5.08 \\\\\n",
      " Trial 4 (ns)            & 11.6      & 10.9     & 10.2      & 9.6      & 9.04     & 8.2      & 7.56     & 7.0      & 6.32     & 5.68     & 5.0  \\\\\n",
      " Average Time (ns)       & 11.6      & 11.0     & 10.2      & 9.66     & 9.03     & 8.29     & 7.58     & 6.95     & 6.32     & 5.69     & 5.05 \\\\\n",
      " Differences (ns)        &  0.66     &  1.38    &  1.97     & 2.6      & 3.34     & 4.05     & 4.68     & 5.31     & 5.94     & 6.58     &      \\\\\n",
      " Scaled Differences (ns) &  0.66     &  0.69    &  0.657    & 0.65     & 0.668    & 0.675    & 0.669    & 0.664    & 0.66     & 0.658    &      \\\\\n",
      " Speed of Light (m/s)    &  3.03e+08 &  2.9e+08 &  3.05e+08 & 3.08e+08 & 2.99e+08 & 2.96e+08 & 2.99e+08 & 3.01e+08 & 3.03e+08 & 3.04e+08 &      \\\\\n",
      "\\hline\n",
      "\\end{tabular}\n"
     ]
    }
   ],
   "source": [
    "speeds = [2*i*0.1/t * 1e9 for i,t in enumerate(diff_ts, 1)]\n",
    "print(tabulate([speeds]))\n",
    "ave_speeds = [np.average(r) for r in speeds]\n",
    "c_exp = np.average(speeds)\n",
    "print(f\"Our calculated C is: {c_exp:.4e} m/s\")\n",
    "print(f\"Compared to the accepted value that is a {(c_exp-C)/C:.3%} error.\")\n",
    "\n",
    "def calc_c_unc(d, d_unc, t, t_unc):\n",
    "    a = np.sqrt((d_unc/d)**2 + (t_unc/t)**2)\n",
    "    return 2*d*a/t\n",
    "\n",
    "diff_t_scaleds = [str(t/i) for i,t in enumerate(diff_ts, start=1)]\n",
    "diff_t_scaled = np.average([t/i for i,t in enumerate(diff_ts, start=1)]) / (1e9)\n",
    "diff_t_scaled_unc = np.std([t/i for i,t in enumerate(diff_ts, start=1)]) / (1e9)\n",
    "print(diff_t_scaled)\n",
    "print(diff_t_scaled_unc)\n",
    "\n",
    "u = calc_c_unc(0.02, 0.0005, diff_t_scaled, diff_t_scaled_unc)\n",
    "print(f\"The uncertainty in C is {u:.3e} m/s\")\n",
    "\n",
    "(C - c_exp) / u\n",
    "\n",
    "print(tabulate([np.linspace(1.2, 0.2, 11), del_t1, del_t2, del_t3, del_t4, dels, diff_ts, diff_t_scaleds, speeds], showindex=\n",
    "               [\"Distances (m)\", \"Trial 1 (ns)\",\"Trial 2 (ns)\", \"Trial 3 (ns)\", \"Trial 4 (ns)\", \"Average Time (ns)\", \n",
    "                 \"Differences (ns)\",\n",
    "                \"Scaled Differences (ns)\", \"Speed of Light (m/s)\"], floatfmt=\".3\", tablefmt='latex'))\n"
   ]
  },
  {
   "cell_type": "code",
   "execution_count": 18,
   "metadata": {},
   "outputs": [
    {
     "data": {
      "image/png": "[encoded data removed]",
      "text/plain": [
       "<Figure size 640x480 with 1 Axes>"
      ]
     },
     "metadata": {},
     "output_type": "display_data"
    },
    {
     "name": "stdout",
     "output_type": "stream",
     "text": [
      "The value of b for the best fit line is 3.7.\n",
      "The value of m for the best fit line is 6.6.\n",
      "0.3041800404718898\n",
      "The uncertainty of b for the best fit line is 0.025.\n",
      "The uncertainty of m for the best fit line is 0.041.\n"
     ]
    }
   ],
   "source": [
    "from typing import Callable\n",
    "import matplotlib.pyplot as plt\n",
    "\n",
    "def mean(xs:list[float]) -> float:\n",
    "    s = sum([x for x in xs]) # list comprehension will follow the pattern and the sum just adds\n",
    "    N = len(xs) # length of xs\n",
    "    return s/N\n",
    "\n",
    "def std(xs:list[float]) -> float:\n",
    "    xbar = mean(xs)\n",
    "    s = sum([(x-xbar)**2 for x in xs])\n",
    "    N = len(xs)\n",
    "    return np.sqrt(s/(N-1)) # we use N-1 for the bias corrected version\n",
    "\n",
    "# All of these functions are just python trnascripts of the functions above.\n",
    "\n",
    "# this function is the DELTA in the formula\n",
    "def delta(xs, ys, stds) -> float: \n",
    "    a = sum([1/sig**2 for sig in stds])\n",
    "    b = sum([x**2/sig**2 for sig, x in zip(stds, xs)])\n",
    "    c = sum([x/sig**2 for sig, x in zip(stds, xs)])\n",
    "    return a*b - c**2\n",
    "\n",
    "# this calculates the m hat in the formula\n",
    "def m_fit(xs, ys, stds) -> float:\n",
    "    a = sum([1/sig**2 for sig in stds])\n",
    "    b = sum([x*y/sig**2 for x, y, sig in zip(xs,ys,stds)])\n",
    "    c = sum([x/sig**2 for x, sig in zip(xs,stds)])\n",
    "    d = sum([y/sig**2 for y, sig in zip(ys,stds)])\n",
    "    return (a*b - c*d)/delta(xs, ys, stds)\n",
    "    \n",
    "# this calculates the b hat in the formula\n",
    "def b_fit(xs, ys, stds) -> float:\n",
    "    a = sum([x**2/sig**2 for x, sig in zip(xs, stds)])\n",
    "    b = sum([y/sig**2 for y, sig in zip(ys,stds)])\n",
    "    c = sum([x/sig**2 for x, sig in zip(xs,stds)])\n",
    "    d = sum([x*y/sig**2 for x, y, sig in zip(xs,ys,stds)])\n",
    "    return (a*b - c*d)/delta(xs, ys, stds)\n",
    "\n",
    "# returns a function in the form f(x) = mx + b\n",
    "def fit_line(xs, ys, stds) -> Callable:\n",
    "    m = m_fit(xs,ys,stds)\n",
    "    b = b_fit(xs,ys,stds)\n",
    "    f = lambda x: m*x + b\n",
    "    return f\n",
    "\n",
    "# uncertainty in b\n",
    "def sigma_m(xs, ys, stds) -> float:\n",
    "    a = sum([1/sig**2 for sig in stds])\n",
    "    return np.sqrt(a/delta(xs, ys, stds))\n",
    "\n",
    "# uncertainty in m\n",
    "def sigma_b(xs, ys, stds) -> float:    \n",
    "    a = sum([x**2/sig**2 for x, sig in zip(xs, stds)])\n",
    "    return np.sqrt(a/delta(xs, ys, stds))\n",
    "\n",
    "x = d\n",
    "y = dels\n",
    "stds = np.array([std([x1,x2,x3,x4]) for x1,x2,x3,x4 in zip(del_t1, del_t2, del_t3, del_t4)])\n",
    "args = (x, y, stds)\n",
    "f = fit_line(*args)\n",
    "m = b_fit(*args)\n",
    "b = m_fit(*args)\n",
    "\n",
    "plt.plot(x, f(x), linewidth=3)\n",
    "plt.errorbar(x, y, stds, fmt=\".\")\n",
    "plt.title(\"Speed of light\")\n",
    "plt.legend([f\"Best Fit: {m:.2f}x + {b:.2f}\", \"Error\"])\n",
    "plt.xlabel(\"Distance (m)\")\n",
    "plt.ylabel(\"Relative Time (ns)\")\n",
    "plt.show()\n",
    "\n",
    "print(f\"The value of b for the best fit line is {b_fit(x, y, stds):.2}.\")\n",
    "print(f\"The value of m for the best fit line is {m_fit(x, y, stds):.2}.\")\n",
    "m = m_fit(x, y, stds)\n",
    "print(2/m)\n",
    "\n",
    "print(f\"The uncertainty of b for the best fit line is {sigma_b(x, y, stds):.2}.\")\n",
    "print(f\"The uncertainty of m for the best fit line is {sigma_m(x, y, stds):.2}.\")"
   ]
  },
  {
   "cell_type": "code",
   "execution_count": 22,
   "metadata": {},
   "outputs": [
    {
     "name": "stdout",
     "output_type": "stream",
     "text": [
      "1.4983333333333317\n",
      "0.033066126344338476\n",
      "0.627%\n",
      "[5.66, 5.410000000000001, 7.290000000000001, 7.0600000000000005]\n"
     ]
    }
   ],
   "source": [
    "def calc_n(t, l):\n",
    "    return (C*t)/(1*l) + 1\n",
    "def calc_n_unc(t, t_unc, l, l_unc):\n",
    "    a = np.sqrt(t_unc**2 + (t*l_unc/l)**2)\n",
    "    return C*a /(2*l)\n",
    "\n",
    "t_w_25 = [5.72, 5.56, 5.68, 5.68] # ns\n",
    "t_wo_25 = [5.44, 5.36, 5.40, 5.44] # ns\n",
    "t_w_50 = [7.32, 7.32, 7.24, 7.28] # ns\n",
    "t_wo_50 = [7.04, 7.08, 7.04, 7.08] # ns\n",
    "\n",
    "del_t_25 = (np.average(t_w_25) - np.average(t_wo_25))/(1e9) # s\n",
    "t_unc = (np.std([a-b for a,b in zip(t_w_25, t_wo_25)]))/(1e9) # s\n",
    "\n",
    "\n",
    "n = calc_n(del_t_25, 15/100)\n",
    "n_unc = calc_n_unc(del_t_25, t_unc, 0.15, 0.0005)\n",
    "print(n)\n",
    "print(n_unc)\n",
    "print(f\"{(n-1.489)/1.489:.3%}\")\n",
    "\n",
    "print([np.average(xs) for xs in [t_w_25, t_wo_25, t_w_50, t_wo_50]])"
   ]
  },
  {
   "cell_type": "code",
   "execution_count": 13,
   "metadata": {},
   "outputs": [
    {
     "name": "stdout",
     "output_type": "stream",
     "text": [
      "Energy_pulse = 1.98e-07 J/pulse\n",
      "Power_pulse = 1.06e+02 W/pulse\n",
      "Energy_photon = 1.86e-19 J/photon\n",
      "N = 1.06e+12 phton/pulse\n",
      "Fluence = 0.0494 J/m^2\n",
      "Intensity = 2.66e+07 W/m^2\n"
     ]
    }
   ],
   "source": [
    "duration = 1.86 / 1e9\n",
    "separation = 113 / 1e6\n",
    "power = 1.75 / 1000\n",
    "wavelength = 1.064 / 1e6\n",
    "h = 6.62607015e-34 \n",
    "A = 4 / (1000)**2\n",
    "\n",
    "E_pulse = power * separation\n",
    "P_pulse = E_pulse / duration\n",
    "E_photon = h * C / wavelength\n",
    "photon_count = E_pulse/E_photon\n",
    "fluence = power * separation / A\n",
    "intensity = power * separation / (duration * A)\n",
    "\n",
    "print(f\"Energy_pulse = {E_pulse:.3} J/pulse\")\n",
    "print(f\"Power_pulse = {P_pulse:.3} W/pulse\")\n",
    "print(f\"Energy_photon = {E_photon:.3} J/photon\")\n",
    "print(f\"N = {photon_count:.3} phton/pulse\")\n",
    "print(f\"Fluence = {fluence:.3} J/m^2\")\n",
    "print(f\"Intensity = {intensity:.3} W/m^2\")\n"
   ]
  }
 ],
 "metadata": {
  "kernelspec": {
   "display_name": "Python 3",
   "language": "python",
   "name": "python3"
  },
  "language_info": {
   "codemirror_mode": {
    "name": "ipython",
    "version": 3
   },
   "file_extension": ".py",
   "mimetype": "text/x-python",
   "name": "python",
   "nbconvert_exporter": "python",
   "pygments_lexer": "ipython3",
   "version": "3.10.6"
  },
  "orig_nbformat": 4,
  "vscode": {
   "interpreter": {
    "hash": "a5de64471995492ddc618a58ecdfb7a4b97e4a4f9afd41641e70cf3b1dd10a09"
   }
  }
 },
 "nbformat": 4,
 "nbformat_minor": 2
}
