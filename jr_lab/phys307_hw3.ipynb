{
 "cells": [
  {
   "attachments": {},
   "cell_type": "markdown",
   "metadata": {},
   "source": [
    "# Homework 3 \n",
    "### Tristan Larkin\n",
    "### (Due Date: Monday, Feb. 14)  \n"
   ]
  },
  {
   "attachments": {},
   "cell_type": "markdown",
   "metadata": {},
   "source": [
    "\n",
    "## Problem 1.\n",
    "Given the function $f(u,v)$ which depends on variables $u$ and $v$ with variances $\\sigma_{u}^2$ and $\\sigma_{v}^2$, respectively, obtain the variance $\\sigma_{f}^2$ of $f(u,v)$ in terms of the variances $\\sigma_u^2$ and $\\sigma_v^2$ and the covariance $\\sigma_{uv}$ of $u$ and $v$ for the following cases where $a$ and $b$ are positive constants: \n",
    "$$ (a) \\space f=au \\pm bv $$\n",
    "$$ (b) \\space f= \\pm auv $$\n",
    "$$ (c) \\space f=\\pm au/v $$\n",
    "$$ (d) \\space 𝑓=𝑎𝑢^{±𝑏} $$\n",
    "$$ (e) \\space 𝑓=𝑎𝑒^{±𝑏𝑢} $$ \n",
    "$$ (f) \\space 𝑓=𝑎 \\ln (±𝑏𝑢) $$\n",
    "Find the uncertainty $\\sigma_x$, in “$x$” as a function of the uncertainties $\\sigma_𝑢$ and $\\sigma_𝑣$ in $u$ and $v$ for the following functions:  \n",
    "$$ (g) \\space 𝑥= \\frac{1}{2(𝑢 + 𝑣)} $$\n",
    "$$ (h) \\space 𝑥= \\frac{1}{2(𝑢− 𝑣)} $$\n",
    "$$ (i) \\space 𝑥= \\frac{1}{𝑢^2} $$\n",
    "$$ (d) \\space x = uv^2 $$\n",
    "$$ (j) \\space x= u^2 + v^2 $$\n",
    "Note: for cases from (a) to (c) assume that the variables $u$ and $v$ are correlated. For cases from (g) to (j) assume that the variables $u$ and $v$ are not correlated.  "
   ]
  },
  {
   "attachments": {},
   "cell_type": "markdown",
   "metadata": {},
   "source": [
    "The equation for uncertatinty with two variables is \n",
    "$$ \\sigma_f^2 = (\\frac{\\partial f}{\\partial u} \\sigma_u)^2 + \n",
    "                (\\frac{\\partial f}{\\partial v} \\sigma_v)^2 + \n",
    "                2\\frac{\\partial f}{\\partial v}\\frac{\\partial f}{\\partial u}\\sigma_{uv}$$"
   ]
  },
  {
   "attachments": {},
   "cell_type": "markdown",
   "metadata": {},
   "source": [
    "$$ (a) \\space f=au \\pm bv $$\n",
    "$$ \\frac{\\partial f}{\\partial u} = a $$\n",
    "$$ \\frac{\\partial f}{\\partial v} = \\pm b $$\n",
    "$$ \\sigma_f^2 = (a \\sigma_u)^2 + (\\pm b \\sigma_v)^2 + 2(a)(\\pm b)\\sigma_{uv}$$\n",
    "$$ \\sigma_f^2 = (a \\sigma_u)^2 + (b \\sigma_v)^2 \\pm 2 a b \\sigma_{uv}$$"
   ]
  },
  {
   "attachments": {},
   "cell_type": "markdown",
   "metadata": {},
   "source": [
    "$$ (b) \\space f= \\pm auv $$\n",
    "$$ \\frac{\\partial f}{\\partial u} = \\pm av $$\n",
    "$$ \\frac{\\partial f}{\\partial v} = \\pm au $$\n",
    "$$ \\sigma_f^2 = (\\pm av \\sigma_u)^2 + (\\pm au \\sigma_v)^2 + 2(\\pm av)(\\pm au)\\sigma_{uv}$$\n",
    "$$ \\sigma_f^2 = (av \\sigma_u)^2 + (au \\sigma_v)^2 + 2a^2uv\\sigma_{uv}$$"
   ]
  },
  {
   "attachments": {},
   "cell_type": "markdown",
   "metadata": {},
   "source": [
    "$$ (c) \\space f=\\pm au/v $$\n",
    "$$ \\frac{\\partial f}{\\partial u} = \\pm a/v $$\n",
    "$$ \\frac{\\partial f}{\\partial v} = \\mp au/v^2 $$\n",
    "$$ \\sigma_f^2 = (\\pm (a/v)\\sigma_u)^2 + (\\mp (au/v^2) \\sigma_v)^2 + 2(\\pm a/v)(\\mp au/v^2)\\sigma_{uv}$$\n",
    "$$ \\sigma_f^2 = (a\\sigma_u/v)^2 + (au\\sigma_v)^2/v^4 - 2a^2u\\sigma_{uv}/v^3$$\n"
   ]
  },
  {
   "attachments": {},
   "cell_type": "markdown",
   "metadata": {},
   "source": [
    "$$ (d) \\space 𝑓=𝑎𝑢^{±𝑏} $$\n",
    "$$ \\frac{\\partial f}{\\partial u} = \\pm abu^{\\pm b - 1} $$\n",
    "$$ \\sigma_f^2 = (\\pm abu^{\\pm b - 1}\\sigma_u)^2 $$ \n",
    "$$ \\sigma_f^2 = (abu^{\\pm b - 1}\\sigma_u)^2 $$ "
   ]
  },
  {
   "attachments": {},
   "cell_type": "markdown",
   "metadata": {},
   "source": [
    "$$ (e) \\space 𝑓=𝑎𝑒^{±𝑏𝑢} $$ \n",
    "$$ \\frac{\\partial f}{\\partial u} = \\pm abe^{\\pm bu} $$\n",
    "$$ \\sigma_f^2 = (\\pm abe^{\\pm bu}\\sigma_u)^2 $$ \n",
    "$$ \\sigma_f^2 = (abe^{\\pm bu}\\sigma_u)^2 $$ \n"
   ]
  },
  {
   "attachments": {},
   "cell_type": "markdown",
   "metadata": {},
   "source": [
    "$$ (f) \\space 𝑓=𝑎 \\ln (±𝑏𝑢) $$\n",
    "$$ \\frac{\\partial f}{\\partial u} = \\pm \\frac{a}{u} $$\n",
    "$$ \\sigma_f^2 = (\\frac{a}{u}\\sigma_u)^2 $$ \n",
    "\n"
   ]
  },
  {
   "attachments": {},
   "cell_type": "markdown",
   "metadata": {},
   "source": [
    "$$ (g) \\space 𝑥= \\frac{1}{2(𝑢 + 𝑣)} $$\n",
    "$$ \\frac{\\partial f}{\\partial u} = \\frac{-1}{2(u+v)^2} $$\n",
    "$$ \\frac{\\partial f}{\\partial v} = \\frac{-1}{2(u+v)^2} $$\n",
    "$$ \\sigma_f^2 = (\\frac{-1}{2(u+v)^2}\\sigma_u)^2 + (\\frac{-1}{2(u+v)^2}\\sigma_v)^2 $$ \n",
    "$$ \\sigma_f^2 = \\frac{1}{4(u+v)^4}(\\sigma_u^2 + \\sigma_v^2) $$ "
   ]
  },
  {
   "attachments": {},
   "cell_type": "markdown",
   "metadata": {},
   "source": [
    "$$ (h) \\space 𝑥= \\frac{1}{2(𝑢−𝑣)} $$\n",
    "$$ \\frac{\\partial f}{\\partial u} = \\frac{-1}{2(u-v)^2} $$\n",
    "$$ \\frac{\\partial f}{\\partial v} = \\frac{1}{2(u-v)^2} $$\n",
    "$$ \\sigma_f^2 = (\\frac{-1}{2(u-v)^2}\\sigma_u)^2 + (\\frac{1}{2(u-v)^2}\\sigma_v)^2 $$ \n",
    "$$ \\sigma_f^2 = \\frac{1}{4(u-v)^4}(\\sigma_u^2 + \\sigma_v^2) $$ \n"
   ]
  },
  {
   "attachments": {},
   "cell_type": "markdown",
   "metadata": {},
   "source": [
    "$$ (i) \\space 𝑥= \\frac{1}{𝑢^2} $$\n",
    "$$ \\frac{\\partial f}{\\partial u} = \\frac{-1}{u^3} $$\n",
    "$$ \\sigma_f^2 = (\\frac{\\sigma_u}{u^3})^2 $$ "
   ]
  },
  {
   "attachments": {},
   "cell_type": "markdown",
   "metadata": {},
   "source": [
    "$$ (d) \\space x = uv^2 $$\n",
    "$$ \\frac{\\partial f}{\\partial u} = v^2 $$\n",
    "$$ \\frac{\\partial f}{\\partial v} = 2uv $$\n",
    "$$ \\sigma_f^2 = (v^2 \\sigma_u)^2 + (2uv \\sigma_v)^2 $$ "
   ]
  },
  {
   "attachments": {},
   "cell_type": "markdown",
   "metadata": {},
   "source": [
    "$$ (j) \\space x= u^2 + v^2 $$\n",
    "$$ \\frac{\\partial f}{\\partial u} = 2u $$\n",
    "$$ \\frac{\\partial f}{\\partial v} = 2v $$\n",
    "$$ \\sigma_f^2 = (2u \\sigma_u)^2 + (2v \\sigma_v)^2 $$ "
   ]
  },
  {
   "attachments": {},
   "cell_type": "markdown",
   "metadata": {},
   "source": [
    "## Problem 2.\n",
    "The Doppler shift describes the frequency change when a source of sound waves of frequency “$f$” moves with a velocity “$v$” towards an observer at rest as  $\\Delta 𝑓=𝑓𝑣/(𝑢−𝑣)$, where “$𝑢$” is the velocity of sound. Determine the Doppler shift and its uncertainty for the situation when  \n",
    "$$ 𝑢=(332±8) \\space \\text{m/s} $$ \n",
    "$$ 𝑣=(0.123±0.003) \\space \\text{m/s} $$ \n",
    "$$ 𝑓=(1000±1) \\space \\text{m/s} $$ \n",
    "What is the quantity that contributes the least and the most to the uncertainty of the Doppler shift?    "
   ]
  },
  {
   "attachments": {},
   "cell_type": "markdown",
   "metadata": {},
   "source": [
    "$$ \\frac{\\partial \\Delta f}{\\partial u} = \\frac{v}{u-v} $$\n",
    "$$ \\frac{\\partial \\Delta f}{\\partial u} = \\frac{fv}{(u-v)^2} $$\n",
    "$$ \\frac{\\partial \\Delta f}{\\partial v} = \\frac{f((u-v) + v)}{(u-v)^2} = \\frac{fu}{(u-v)^2}$$\n",
    "$$ \\sigma_{\\Delta f}^2 = (\\frac{v}{u-v} \\sigma_f)^2 + (\\frac{fv}{(u-v)^2} \\sigma_u)^2 + (\\frac{fu}{(u-v)^2} \\sigma_v)^2 $$ "
   ]
  },
  {
   "cell_type": "code",
   "execution_count": 8,
   "metadata": {},
   "outputs": [
    {
     "name": "stdout",
     "output_type": "stream",
     "text": [
      "The final value is 0.3706 ± 0.0127\n"
     ]
    }
   ],
   "source": [
    "import math\n",
    "\n",
    "u = 332\n",
    "u_u = 8\n",
    "v = 0.123\n",
    "v_u = 0.003\n",
    "f = 1000\n",
    "f_u = 1\n",
    "variance = (v/(u-v)*f_u)**2 + (f*v/((u-v)**2)*u_u)**2 + (f*u/((u-v)**2) *v_u)**2\n",
    "value = f*v/(u-v)\n",
    "print(f\"The final value is {value:.4f} ± {math.sqrt(variance):.4f}\")"
   ]
  },
  {
   "attachments": {},
   "cell_type": "markdown",
   "metadata": {},
   "source": [
    "## Problem 3. \n",
    "The period T of a pendulum is related to its length by the relation\n",
    "$$ T=2 \\pi \\sqrt{\\frac{L}{g}} $$\n",
    "where $g$ is the gravitational acceleration. Suppose you are measuring $g$ from the period and length of the pendulum. You have measured the length of the pendulum to be 1.1325±0.0014 m ($\\sigma_L = 0.0014$). You independently measure the period to within an uncertainty of 0.06%, that is $\\sigma_𝑇/𝑇=6 \\times 10^{-4}$. What is the fractional uncertainty in $𝑔$  (ie $\\sigma_𝑔/𝑔$), assuming that the uncertainties in $𝐿$ and $𝑇$ are independent and random?  \n"
   ]
  },
  {
   "attachments": {},
   "cell_type": "markdown",
   "metadata": {},
   "source": [
    "$$ T=2 \\pi \\sqrt{\\frac{L}{g}} \\Rightarrow g = \\frac{4 \\pi^2 L}{T^2}$$\n",
    "\n",
    "$$ \\frac{\\partial g}{\\partial L} = \\frac{4 \\pi^2}{T^2} $$\n",
    "$$ \\frac{\\partial g}{\\partial T} = \\frac{-8 \\pi^2 L}{T^3} $$\n",
    "$$ \\sigma_g^2 = (\\frac{4 \\pi^2}{T^2} \\sigma_L)^2 + (\\frac{-8 \\pi^2 L}{T^3} \\sigma_T)^2 $$ \n",
    "$$ \\frac{\\sigma_g^2}{g^2} = \\frac{(\\frac{16 \\pi^4}{T^4} \\sigma_L^2)}{\\frac{16 \\pi^4 L^2}{T^4}} + \n",
    "\\frac{(\\frac{64 \\pi^4 L^2}{T^4} \\frac{\\sigma_T^2}{T^2})}{{\\frac{16 \\pi^4 L^2}{T^4}}} $$ \n",
    "$$ (\\frac{\\sigma_g}{g})^2 = \\frac{\\sigma_L^2}{L^2} + \\frac{4 \\sigma_t^2}{LT^2} $$ \n",
    "$$ (\\frac{\\sigma_g}{g})^2 = \\frac{\\sigma_L^2}{L^2} + 4(\\frac{\\sigma_T}{T})^2 $$ "
   ]
  },
  {
   "cell_type": "code",
   "execution_count": 11,
   "metadata": {},
   "outputs": [
    {
     "name": "stdout",
     "output_type": "stream",
     "text": [
      "The relative uncertainty in g is 0.0017228459249105398 or 0.172285%\n"
     ]
    }
   ],
   "source": [
    "L = 1.1325\n",
    "L_u = 0.0014\n",
    "rel_T = 6e-4\n",
    "rel_g_squared = (L_u/L)**2 + 4*(rel_T)**2\n",
    "print(f\"The relative uncertainty in g is {math.sqrt(rel_g_squared)} or {math.sqrt(rel_g_squared):%}\")"
   ]
  },
  {
   "attachments": {},
   "cell_type": "markdown",
   "metadata": {},
   "source": [
    "## Problem 4.\n",
    "Niels Bohr showed that the energy ($E_n$) of the quantum states of a Hydrogen atom are given by:\n",
    "$$𝐸_𝑛=−2 \\pi \\frac{𝑚 𝑒^4}{ℎ^2 𝑛^2}  $$\n",
    "where $m$ is the mass of the electron, $e$ is charge and $h$ is Planck's constant. $n$ is the Principle Quantum Number and is an exact number. Suppose the relative error ($\\sigma_𝑢/𝑢$) in each of the measured quantities $m$, $e$ and $h$ is:   \n",
    "|Quantity | Rel. Error |\n",
    "|---|---|\n",
    "|$m$  | 0.001 | \n",
    "|$e$  | 0.002 | \n",
    "|$h$  |0.0001 \n"
   ]
  },
  {
   "cell_type": "markdown",
   "metadata": {},
   "source": [
    "What is the relative error in energy of the third quantum state? Assume all the errors are statistically determined standard deviations of the mean.    "
   ]
  },
  {
   "attachments": {},
   "cell_type": "markdown",
   "metadata": {},
   "source": [
    "$$ E_n = −2 \\pi \\frac{𝑚 𝑒^4}{ℎ^2 𝑛^2} $$\n",
    "$$ \\frac{\\partial E_n}{\\partial m} = −2 \\pi \\frac{𝑒^4}{ℎ^2 𝑛^2} $$\n",
    "$$ \\frac{\\partial E_n}{\\partial e} = −8 \\pi \\frac{m 𝑒^3}{ℎ^2 𝑛^2} $$\n",
    "$$ \\frac{\\partial E_n}{\\partial h} = 4 \\pi \\frac{𝑚 𝑒^4}{ℎ^3 𝑛^2} $$\n",
    "$$ \\sigma_{E_n}^2 = (−2 \\pi \\frac{𝑒^4}{ℎ^2 𝑛^2} \\sigma_{m})^2 + \n",
    "                    (−8 \\pi \\frac{m 𝑒^3}{ℎ^2 𝑛^2} \\sigma_{e})^2 + \n",
    "                    (4 \\pi \\frac{𝑚 𝑒^4}{ℎ^3 𝑛^2} \\sigma_{h})^2 $$\n",
    "$$ \\frac{\\sigma_{E_n}^2}{E_n^2} = \\frac{(−2 \\pi \\frac{𝑒^4}{ℎ^2 𝑛^2} \\sigma_{m})^2}{(−2 \\pi \\frac{𝑚 𝑒^4}{ℎ^2 𝑛^2})^2} + \n",
    "                                  \\frac{(−8 \\pi \\frac{m 𝑒^3}{ℎ^2 𝑛^2} \\sigma_{e})^2}{(−2 \\pi \\frac{𝑚 𝑒^4}{ℎ^2 𝑛^2})^2} + \n",
    "                                  \\frac{(4 \\pi \\frac{m 𝑒^4}{ℎ^3 𝑛^2} \\sigma_{h})^2}{(−2 \\pi \\frac{𝑚 𝑒^4}{ℎ^2 𝑛^2})^2} $$\n",
    "$$ (\\frac{\\sigma_{E_n}}{E_n})^2 = (\\frac{\\sigma_m}{m})^2 + 16(\\frac{\\sigma_e}{e})^2 + 4(\\frac{\\sigma_h}{h})^2 $$"
   ]
  },
  {
   "cell_type": "code",
   "execution_count": 17,
   "metadata": {},
   "outputs": [
    {
     "name": "stdout",
     "output_type": "stream",
     "text": [
      "The relative uncertainty in E_n is 0.008065 or 0.806474%\n"
     ]
    }
   ],
   "source": [
    "rel_m = 0.001\n",
    "rel_e = 0.002\n",
    "rel_h = 0.0001\n",
    "rel_E = math.sqrt((rel_m)**2 + 16*(rel_e)**2 + 4*(rel_h)**2)\n",
    "print(f\"The relative uncertainty in E_n is {rel_E:4f} or {rel_E:%}\")"
   ]
  }
 ],
 "metadata": {
  "kernelspec": {
   "display_name": "Python 3",
   "language": "python",
   "name": "python3"
  },
  "language_info": {
   "codemirror_mode": {
    "name": "ipython",
    "version": 3
   },
   "file_extension": ".py",
   "mimetype": "text/x-python",
   "name": "python",
   "nbconvert_exporter": "python",
   "pygments_lexer": "ipython3",
   "version": "3.10.6"
  },
  "orig_nbformat": 4,
  "vscode": {
   "interpreter": {
    "hash": "a5de64471995492ddc618a58ecdfb7a4b97e4a4f9afd41641e70cf3b1dd10a09"
   }
  }
 },
 "nbformat": 4,
 "nbformat_minor": 2
}
