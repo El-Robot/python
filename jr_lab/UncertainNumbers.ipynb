{
 "cells": [
  {
   "attachments": {},
   "cell_type": "markdown",
   "metadata": {},
   "source": [
    "# Uncertain Numbers\n",
    "### Tristan Larkin"
   ]
  },
  {
   "cell_type": "code",
   "execution_count": 3,
   "metadata": {},
   "outputs": [],
   "source": [
    "import sympy\n",
    "import numpy"
   ]
  },
  {
   "attachments": {},
   "cell_type": "markdown",
   "metadata": {},
   "source": [
    "This class will assume Gaussian error and will use the sympy module for symbolic representation for error propagation. Uncertain numbers have two parts, a value $\\mu$ and an uncertainty $\\sigma$."
   ]
  },
  {
   "cell_type": "code",
   "execution_count": 103,
   "metadata": {},
   "outputs": [],
   "source": [
    "class UncertainNumber:\n",
    "    def __init__(self, value:float, uncertainty:float, symbol:str=\"x\") -> None:\n",
    "        self.value = value\n",
    "        self.uncertainty = uncertainty\n",
    "        self.sym = sympy.Symbol(symbol)\n",
    "        self.unc_equation = self.sym\n",
    "    \n",
    "    def gen_un(*args) -> tuple['UncertainNumber', sympy.Symbol]:\n",
    "        un = UncertainNumber(*args)\n",
    "        return (un, un.sym)\n",
    "\n",
    "    # def __format__(self, __format_spec: str) -> str:\n",
    "    #     ...\n",
    "\n",
    "    def __repr__(self) -> str:\n",
    "        return f\"{self.value} ± {self.uncertainty}\"\n",
    "    \n",
    "    def parts(self) -> tuple[float,float]:\n",
    "        return (self.value, self.uncertainty)\n",
    "\n",
    "    def w_avg(xs:list['UncertainNumber']) -> 'UncertainNumber':\n",
    "        values = [n.value for n in xs]\n",
    "        sigmas = [n.uncertainty for n in xs]\n",
    "        weights = [1/(sigma**2) for sigma in sigmas]\n",
    "        den = sum(weights)\n",
    "\n",
    "        new_value = sum([w*x for w,x in zip(weights, values)])/den\n",
    "        new_uncertainty = numpy.sqrt(1/den)\n",
    "        return UncertainNumber(new_value, new_uncertainty)\n",
    "\n",
    "    def propagate(func:sympy.Expr, ns:list['UncertainNumber']):\n",
    "        errors = [sympy.Derivative(func, n.sym) for n in ns]\n",
    "        res = 0\n",
    "        for e,n in zip(errors,ns):\n",
    "            res = res + (e*n.uncertainty)**2\n",
    "        return sympy.sqrt(res)\n"
   ]
  },
  {
   "cell_type": "code",
   "execution_count": 97,
   "metadata": {},
   "outputs": [
    {
     "data": {
      "text/latex": [
       "$\\displaystyle \\sqrt{S_{N}^{2} \\left(\\frac{\\partial}{\\partial N_{0}} N_{0} e^{- \\frac{t}{\\tau}}\\right)^{2} + S_{\\tau}^{2} \\left(\\frac{\\partial}{\\partial \\tau} N_{0} e^{- \\frac{t}{\\tau}}\\right)^{2}}$"
      ],
      "text/plain": [
       "sqrt(S_N**2*Derivative(N_0*exp(-t/\\tau), N_0)**2 + S_\\tau**2*Derivative(N_0*exp(-t/\\tau), \\tau)**2)"
      ]
     },
     "execution_count": 97,
     "metadata": {},
     "output_type": "execute_result"
    }
   ],
   "source": [
    "sN = sympy.Symbol(\"S_N\")\n",
    "sT = sympy.Symbol(\"S_\\\\tau\")\n",
    "st = sympy.Symbol(\"S_t\")\n",
    "n0, t = UncertainNumber.gen_un(1, 0, 't')\n",
    "n1, N0 = UncertainNumber.gen_un(1, sN, 'N_0')\n",
    "n2, T = UncertainNumber.gen_un(1, sT, '\\\\tau')\n",
    "\n",
    "N = N0 * sympy.exp(-t/T)\n",
    "\n",
    "z = UncertainNumber.propagate(N, [n0, n1, n2])\n",
    "z\n",
    "\n"
   ]
  },
  {
   "cell_type": "code",
   "execution_count": 104,
   "metadata": {},
   "outputs": [
    {
     "name": "stdout",
     "output_type": "stream",
     "text": [
      "[0.8971 ± 0.0021, 0.8941 ± 0.0014, 0.8929 ± 0.0016, 0.892 ± 0.0044, 0.881 ± 0.009, 0.8924 ± 0.0032, 0.8937 ± 0.0048, 0.8958 ± 0.0045]\n",
      "0.8939856002768972 ± 0.000850632110379561\n"
     ]
    }
   ],
   "source": [
    "values = [0.8971,0.8941,0.8929,0.8920,0.881,0.8924,0.8937,0.8958]\n",
    "uncertainties = [0.0021,0.0014,0.0016,0.0044,0.009,0.0032,0.0048,0.0045]\n",
    "uns = [UncertainNumber(v, u) for v,u in zip(values, uncertainties)]\n",
    "print(uns)\n",
    "\n",
    "print(UncertainNumber.w_avg(uns))"
   ]
  }
 ],
 "metadata": {
  "kernelspec": {
   "display_name": "Python 3",
   "language": "python",
   "name": "python3"
  },
  "language_info": {
   "codemirror_mode": {
    "name": "ipython",
    "version": 3
   },
   "file_extension": ".py",
   "mimetype": "text/x-python",
   "name": "python",
   "nbconvert_exporter": "python",
   "pygments_lexer": "ipython3",
   "version": "3.10.6"
  },
  "orig_nbformat": 4
 },
 "nbformat": 4,
 "nbformat_minor": 2
}
