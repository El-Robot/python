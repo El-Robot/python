{
 "cells": [
  {
   "attachments": {},
   "cell_type": "markdown",
   "metadata": {},
   "source": [
    "# Anal 2 hw 2 code help"
   ]
  },
  {
   "cell_type": "code",
   "execution_count": 5,
   "metadata": {},
   "outputs": [],
   "source": [
    "%gui qt\n",
    "from PyQt5 import QtWidgets\n",
    "from pyqtgraph import PlotWidget, plot\n",
    "import pyqtgraph as pg\n",
    "import sys  # We need sys so that we can pass argv to QApplication\n",
    "import os\n",
    "import matplotlib.pyplot as plt\n",
    "import numpy as np"
   ]
  },
  {
   "cell_type": "code",
   "execution_count": 4,
   "metadata": {},
   "outputs": [],
   "source": [
    "\n",
    "# class Tides(QtWidgets.QMainWindow):\n",
    "\n",
    "#     def __init__(self, *args, **kwargs):\n",
    "#         super(Tides, self).__init__(*args, **kwargs)\n",
    "\n",
    "#         self.graphWidget = pg.PlotWidget()\n",
    "#         self.setCentralWidget(self.graphWidget)\n",
    "\n",
    "#         hour = [1,2,3,4,5,6,7,8,9,10]\n",
    "#         temperature = [30,32,34,32,33,31,29,32,35,45]\n",
    "\n",
    "#         # plot data: x, y values\n",
    "#         self.graphWidget.plot(hour, temperature)\n",
    "\n",
    "\n",
    "# main = MainWindow()\n",
    "# main.show()"
   ]
  },
  {
   "cell_type": "code",
   "execution_count": 21,
   "metadata": {},
   "outputs": [
    {
     "data": {
      "image/png": "[encoded data removed]",
      "text/plain": [
       "<Figure size 640x480 with 1 Axes>"
      ]
     },
     "metadata": {},
     "output_type": "display_data"
    }
   ],
   "source": [
    "R_E = 6.378e6 # m\n",
    "angles = np.linspace(0, 2*np.pi, 360)\n",
    "earthX = R_E * np.cos(angles)\n",
    "earthY = R_E * np.sin(angles)\n",
    "plt.plot(earthX, earthY) \n",
    "\n",
    "D_0 = 3.84467e8 / 6 # m\n",
    "R_M = 1.7374e6 # m\n",
    "moonX = R_M * np.cos(angles) + D_0/6\n",
    "moonY = R_M * np.sin(angles)\n",
    "plt.plot(moonX, moonY) \n",
    "\n",
    "plt.gca().set_aspect(\"equal\")\n",
    "plt.show(block=False)"
   ]
  },
  {
   "cell_type": "code",
   "execution_count": null,
   "metadata": {},
   "outputs": [],
   "source": []
  }
 ],
 "metadata": {
  "kernelspec": {
   "display_name": "Python 3",
   "language": "python",
   "name": "python3"
  },
  "language_info": {
   "codemirror_mode": {
    "name": "ipython",
    "version": 3
   },
   "file_extension": ".py",
   "mimetype": "text/x-python",
   "name": "python",
   "nbconvert_exporter": "python",
   "pygments_lexer": "ipython3",
   "version": "3.10.6"
  },
  "orig_nbformat": 4,
  "vscode": {
   "interpreter": {
    "hash": "a5de64471995492ddc618a58ecdfb7a4b97e4a4f9afd41641e70cf3b1dd10a09"
   }
  }
 },
 "nbformat": 4,
 "nbformat_minor": 2
}
